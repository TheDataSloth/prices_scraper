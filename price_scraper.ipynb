{
 "cells": [
  {
   "cell_type": "markdown",
   "id": "e4248d23",
   "metadata": {},
   "source": [
    "### Imports"
   ]
  },
  {
   "cell_type": "code",
   "execution_count": null,
   "id": "fbf5babb",
   "metadata": {},
   "outputs": [],
   "source": [
    "from bs4 import BeautifulSoup\n",
    "import requests\n",
    "from csv import writer"
   ]
  },
  {
   "cell_type": "markdown",
   "id": "1cca63bf",
   "metadata": {},
   "source": [
    "### URL and Requests"
   ]
  },
  {
   "cell_type": "code",
   "execution_count": 65,
   "id": "c3624201",
   "metadata": {},
   "outputs": [],
   "source": [
    "#url of website to scrape\n",
    "url= \"https://www.wide-format-paper.com/Dietzgen.html?sort=bestselling\"\n",
    "page = requests.get(url).text"
   ]
  },
  {
   "cell_type": "markdown",
   "id": "bcd5f23b",
   "metadata": {},
   "source": [
    "### CSV and Scrape"
   ]
  },
  {
   "cell_type": "code",
   "execution_count": 66,
   "id": "e803df55",
   "metadata": {},
   "outputs": [],
   "source": [
    "soup = BeautifulSoup(page, 'lxml')\n",
    "# Find all products\n",
    "products = soup.find_all('li', class_='product')\n",
    "\n",
    "# importing to csv file\n",
    "with open('paper_prices_sum.csv', 'w', encoding='utf8', newline='') as f:\n",
    "    thewriter = writer(f)\n",
    "    header = ['Name', 'Summary', 'Price']\n",
    "    thewriter.writerow(header)\n",
    "\n",
    "    #for all the products within class product get name, summary, and price\n",
    "    for product in products:\n",
    "        name = product.find('h4', class_='card-title').text.replace('\\n','')\n",
    "        summary = product.find('p', class_='card-summary').text.replace('\\n','')\n",
    "        price = product.find('div', class_=\"price-section price-section--withoutTax\").text.replace('Now:', '').replace('\\n','')\n",
    "        info = [name, summary, price]\n",
    "        thewriter.writerow(info)"
   ]
  }
 ],
 "metadata": {
  "kernelspec": {
   "display_name": "Python 3",
   "language": "python",
   "name": "python3"
  },
  "language_info": {
   "codemirror_mode": {
    "name": "ipython",
    "version": 3
   },
   "file_extension": ".py",
   "mimetype": "text/x-python",
   "name": "python",
   "nbconvert_exporter": "python",
   "pygments_lexer": "ipython3",
   "version": "3.8.8"
  }
 },
 "nbformat": 4,
 "nbformat_minor": 5
}
